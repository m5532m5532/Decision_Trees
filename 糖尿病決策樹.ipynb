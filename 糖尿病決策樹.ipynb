{
 "cells": [
  {
   "cell_type": "code",
   "execution_count": 1,
   "metadata": {},
   "outputs": [],
   "source": [
    "import pandas as pd"
   ]
  },
  {
   "cell_type": "code",
   "execution_count": 2,
   "metadata": {},
   "outputs": [],
   "source": [
    "df_6 = pd.read_csv(\"diabetes.csv\")"
   ]
  },
  {
   "cell_type": "code",
   "execution_count": 3,
   "metadata": {},
   "outputs": [],
   "source": [
    "from sklearn.tree import DecisionTreeClassifier\n",
    "from sklearn.model_selection import train_test_split\n",
    "from sklearn.metrics import classification_report, confusion_matrix\n",
    "from sklearn import tree\n",
    "import pydot"
   ]
  },
  {
   "cell_type": "code",
   "execution_count": 4,
   "metadata": {},
   "outputs": [
    {
     "name": "stderr",
     "output_type": "stream",
     "text": [
      "C:\\Users\\user\\anaconda3\\lib\\site-packages\\sklearn\\externals\\six.py:31: FutureWarning: The module is deprecated in version 0.21 and will be removed in version 0.23 since we've dropped support for Python 2.7. Please rely on the official version of six (https://pypi.org/project/six/).\n",
      "  \"(https://pypi.org/project/six/).\", FutureWarning)\n"
     ]
    }
   ],
   "source": [
    "from sklearn.externals.six import StringIO"
   ]
  },
  {
   "cell_type": "code",
   "execution_count": 5,
   "metadata": {},
   "outputs": [],
   "source": [
    "X = df_6.drop('Outcome', axis=1)\n",
    "y = df_6['Outcome']"
   ]
  },
  {
   "cell_type": "code",
   "execution_count": 6,
   "metadata": {},
   "outputs": [],
   "source": [
    "X_train, X_test, y_train, y_test = train_test_split(X, y, test_size=0.30)"
   ]
  },
  {
   "cell_type": "code",
   "execution_count": 7,
   "metadata": {},
   "outputs": [
    {
     "data": {
      "text/plain": [
       "DecisionTreeClassifier(ccp_alpha=0.0, class_weight=None, criterion='gini',\n",
       "                       max_depth=None, max_features=None, max_leaf_nodes=None,\n",
       "                       min_impurity_decrease=0.0, min_impurity_split=None,\n",
       "                       min_samples_leaf=1, min_samples_split=2,\n",
       "                       min_weight_fraction_leaf=0.0, presort='deprecated',\n",
       "                       random_state=None, splitter='best')"
      ]
     },
     "execution_count": 7,
     "metadata": {},
     "output_type": "execute_result"
    }
   ],
   "source": [
    "classifier = DecisionTreeClassifier()\n",
    "classifier.fit(X_train, y_train)"
   ]
  },
  {
   "cell_type": "code",
   "execution_count": 8,
   "metadata": {},
   "outputs": [],
   "source": [
    "y_pred = classifier.predict(X_test)"
   ]
  },
  {
   "cell_type": "code",
   "execution_count": 9,
   "metadata": {},
   "outputs": [
    {
     "name": "stdout",
     "output_type": "stream",
     "text": [
      "[[112  47]\n",
      " [ 21  51]]\n",
      "              precision    recall  f1-score   support\n",
      "\n",
      "           0       0.84      0.70      0.77       159\n",
      "           1       0.52      0.71      0.60        72\n",
      "\n",
      "    accuracy                           0.71       231\n",
      "   macro avg       0.68      0.71      0.68       231\n",
      "weighted avg       0.74      0.71      0.72       231\n",
      "\n"
     ]
    }
   ],
   "source": [
    "print(confusion_matrix(y_test, y_pred))\n",
    "print(classification_report(y_test, y_pred))"
   ]
  },
  {
   "cell_type": "code",
   "execution_count": 10,
   "metadata": {},
   "outputs": [],
   "source": [
    "dot_data = StringIO()"
   ]
  },
  {
   "cell_type": "code",
   "execution_count": 11,
   "metadata": {},
   "outputs": [],
   "source": [
    "tree.export_graphviz(classifier,\n",
    "        out_file=dot_data,\n",
    "        feature_names=['Pregnancie', 'Glucose', 'BloodPressure', 'SkinThickness',\n",
    "       'Insulin', 'BMI', 'DiabetesPedigreeFunction', 'Age '],\n",
    "        class_names=['0',\"1\"],\n",
    "        filled=True, rounded=True,\n",
    "        impurity=False)"
   ]
  },
  {
   "cell_type": "code",
   "execution_count": 12,
   "metadata": {},
   "outputs": [],
   "source": [
    "graph = pydot.graph_from_dot_data(dot_data.getvalue())"
   ]
  },
  {
   "cell_type": "markdown",
   "metadata": {},
   "source": [
    "畫出決策樹"
   ]
  },
  {
   "cell_type": "code",
   "execution_count": 13,
   "metadata": {},
   "outputs": [],
   "source": [
    "graph[0].write_pdf(\"MASS01.pdf\")"
   ]
  },
  {
   "cell_type": "code",
   "execution_count": 14,
   "metadata": {},
   "outputs": [
    {
     "data": {
      "text/plain": [
       "[Text(154.59589285714287, 209.07692307692307, 'X[1] <= 130.5\\ngini = 0.464\\nsamples = 537\\nvalue = [341, 196]'),\n",
       " Text(67.45821428571429, 192.35076923076923, 'X[7] <= 28.5\\ngini = 0.344\\nsamples = 362\\nvalue = [282, 80]'),\n",
       " Text(27.9, 175.62461538461537, 'X[5] <= 31.3\\ngini = 0.193\\nsamples = 213\\nvalue = [190, 23]'),\n",
       " Text(15.942857142857143, 158.89846153846153, 'X[0] <= 7.5\\ngini = 0.049\\nsamples = 119\\nvalue = [116, 3]'),\n",
       " Text(12.754285714285714, 142.1723076923077, 'X[6] <= 1.33\\ngini = 0.033\\nsamples = 118\\nvalue = [116, 2]'),\n",
       " Text(6.377142857142857, 125.44615384615385, 'X[6] <= 0.672\\ngini = 0.018\\nsamples = 113\\nvalue = [112, 1]'),\n",
       " Text(3.1885714285714286, 108.72, 'gini = 0.0\\nsamples = 97\\nvalue = [97, 0]'),\n",
       " Text(9.565714285714286, 108.72, 'X[5] <= 24.0\\ngini = 0.117\\nsamples = 16\\nvalue = [15, 1]'),\n",
       " Text(6.377142857142857, 91.99384615384615, 'gini = 0.0\\nsamples = 1\\nvalue = [0, 1]'),\n",
       " Text(12.754285714285714, 91.99384615384615, 'gini = 0.0\\nsamples = 15\\nvalue = [15, 0]'),\n",
       " Text(19.13142857142857, 125.44615384615385, 'X[1] <= 127.5\\ngini = 0.32\\nsamples = 5\\nvalue = [4, 1]'),\n",
       " Text(15.942857142857143, 108.72, 'gini = 0.0\\nsamples = 4\\nvalue = [4, 0]'),\n",
       " Text(22.32, 108.72, 'gini = 0.0\\nsamples = 1\\nvalue = [0, 1]'),\n",
       " Text(19.13142857142857, 142.1723076923077, 'gini = 0.0\\nsamples = 1\\nvalue = [0, 1]'),\n",
       " Text(39.85714285714286, 158.89846153846153, 'X[2] <= 37.0\\ngini = 0.335\\nsamples = 94\\nvalue = [74, 20]'),\n",
       " Text(36.668571428571425, 142.1723076923077, 'gini = 0.0\\nsamples = 2\\nvalue = [0, 2]'),\n",
       " Text(43.04571428571428, 142.1723076923077, 'X[6] <= 0.501\\ngini = 0.315\\nsamples = 92\\nvalue = [74, 18]'),\n",
       " Text(31.885714285714286, 125.44615384615385, 'X[5] <= 49.05\\ngini = 0.201\\nsamples = 53\\nvalue = [47, 6]'),\n",
       " Text(28.697142857142858, 108.72, 'X[4] <= 38.0\\ngini = 0.145\\nsamples = 51\\nvalue = [47, 4]'),\n",
       " Text(25.50857142857143, 91.99384615384615, 'X[0] <= 0.5\\ngini = 0.391\\nsamples = 15\\nvalue = [11, 4]'),\n",
       " Text(19.13142857142857, 75.2676923076923, 'X[7] <= 25.0\\ngini = 0.444\\nsamples = 3\\nvalue = [1, 2]'),\n",
       " Text(15.942857142857143, 58.541538461538465, 'gini = 0.0\\nsamples = 2\\nvalue = [0, 2]'),\n",
       " Text(22.32, 58.541538461538465, 'gini = 0.0\\nsamples = 1\\nvalue = [1, 0]'),\n",
       " Text(31.885714285714286, 75.2676923076923, 'X[2] <= 55.0\\ngini = 0.278\\nsamples = 12\\nvalue = [10, 2]'),\n",
       " Text(28.697142857142858, 58.541538461538465, 'gini = 0.0\\nsamples = 1\\nvalue = [0, 1]'),\n",
       " Text(35.074285714285715, 58.541538461538465, 'X[2] <= 73.0\\ngini = 0.165\\nsamples = 11\\nvalue = [10, 1]'),\n",
       " Text(31.885714285714286, 41.81538461538463, 'gini = 0.0\\nsamples = 8\\nvalue = [8, 0]'),\n",
       " Text(38.26285714285714, 41.81538461538463, 'X[5] <= 33.1\\ngini = 0.444\\nsamples = 3\\nvalue = [2, 1]'),\n",
       " Text(35.074285714285715, 25.089230769230767, 'gini = 0.0\\nsamples = 1\\nvalue = [0, 1]'),\n",
       " Text(41.45142857142857, 25.089230769230767, 'gini = 0.0\\nsamples = 2\\nvalue = [2, 0]'),\n",
       " Text(31.885714285714286, 91.99384615384615, 'gini = 0.0\\nsamples = 36\\nvalue = [36, 0]'),\n",
       " Text(35.074285714285715, 108.72, 'gini = 0.0\\nsamples = 2\\nvalue = [0, 2]'),\n",
       " Text(54.205714285714286, 125.44615384615385, 'X[3] <= 43.5\\ngini = 0.426\\nsamples = 39\\nvalue = [27, 12]'),\n",
       " Text(51.01714285714286, 108.72, 'X[6] <= 0.57\\ngini = 0.394\\nsamples = 37\\nvalue = [27, 10]'),\n",
       " Text(41.45142857142857, 91.99384615384615, 'X[5] <= 34.0\\ngini = 0.5\\nsamples = 12\\nvalue = [6, 6]'),\n",
       " Text(38.26285714285714, 75.2676923076923, 'gini = 0.0\\nsamples = 4\\nvalue = [0, 4]'),\n",
       " Text(44.64, 75.2676923076923, 'X[0] <= 1.5\\ngini = 0.375\\nsamples = 8\\nvalue = [6, 2]'),\n",
       " Text(41.45142857142857, 58.541538461538465, 'gini = 0.0\\nsamples = 5\\nvalue = [5, 0]'),\n",
       " Text(47.82857142857143, 58.541538461538465, 'X[1] <= 116.0\\ngini = 0.444\\nsamples = 3\\nvalue = [1, 2]'),\n",
       " Text(44.64, 41.81538461538463, 'gini = 0.0\\nsamples = 2\\nvalue = [0, 2]'),\n",
       " Text(51.01714285714286, 41.81538461538463, 'gini = 0.0\\nsamples = 1\\nvalue = [1, 0]'),\n",
       " Text(60.582857142857144, 91.99384615384615, 'X[7] <= 21.5\\ngini = 0.269\\nsamples = 25\\nvalue = [21, 4]'),\n",
       " Text(57.394285714285715, 75.2676923076923, 'gini = 0.0\\nsamples = 1\\nvalue = [0, 1]'),\n",
       " Text(63.77142857142857, 75.2676923076923, 'X[6] <= 1.272\\ngini = 0.219\\nsamples = 24\\nvalue = [21, 3]'),\n",
       " Text(60.582857142857144, 58.541538461538465, 'X[2] <= 64.5\\ngini = 0.159\\nsamples = 23\\nvalue = [21, 2]'),\n",
       " Text(57.394285714285715, 41.81538461538463, 'X[2] <= 61.0\\ngini = 0.444\\nsamples = 6\\nvalue = [4, 2]'),\n",
       " Text(54.205714285714286, 25.089230769230767, 'gini = 0.0\\nsamples = 3\\nvalue = [3, 0]'),\n",
       " Text(60.582857142857144, 25.089230769230767, 'X[3] <= 34.0\\ngini = 0.444\\nsamples = 3\\nvalue = [1, 2]'),\n",
       " Text(57.394285714285715, 8.363076923076932, 'gini = 0.0\\nsamples = 2\\nvalue = [0, 2]'),\n",
       " Text(63.77142857142857, 8.363076923076932, 'gini = 0.0\\nsamples = 1\\nvalue = [1, 0]'),\n",
       " Text(63.77142857142857, 41.81538461538463, 'gini = 0.0\\nsamples = 17\\nvalue = [17, 0]'),\n",
       " Text(66.96000000000001, 58.541538461538465, 'gini = 0.0\\nsamples = 1\\nvalue = [0, 1]'),\n",
       " Text(57.394285714285715, 108.72, 'gini = 0.0\\nsamples = 2\\nvalue = [0, 2]'),\n",
       " Text(107.01642857142858, 175.62461538461537, 'X[5] <= 27.35\\ngini = 0.472\\nsamples = 149\\nvalue = [92, 57]'),\n",
       " Text(84.49714285714286, 158.89846153846153, 'X[5] <= 9.65\\ngini = 0.128\\nsamples = 29\\nvalue = [27, 2]'),\n",
       " Text(81.30857142857143, 142.1723076923077, 'gini = 0.0\\nsamples = 1\\nvalue = [0, 1]'),\n",
       " Text(87.68571428571428, 142.1723076923077, 'X[7] <= 29.5\\ngini = 0.069\\nsamples = 28\\nvalue = [27, 1]'),\n",
       " Text(84.49714285714286, 125.44615384615385, 'gini = 0.0\\nsamples = 1\\nvalue = [0, 1]'),\n",
       " Text(90.87428571428572, 125.44615384615385, 'gini = 0.0\\nsamples = 27\\nvalue = [27, 0]'),\n",
       " Text(129.53571428571428, 158.89846153846153, 'X[6] <= 0.528\\ngini = 0.497\\nsamples = 120\\nvalue = [65, 55]'),\n",
       " Text(106.02, 142.1723076923077, 'X[1] <= 111.5\\ngini = 0.455\\nsamples = 80\\nvalue = [52, 28]'),\n",
       " Text(97.25142857142858, 125.44615384615385, 'X[3] <= 36.5\\ngini = 0.359\\nsamples = 47\\nvalue = [36, 11]'),\n",
       " Text(94.06285714285714, 108.72, 'X[0] <= 11.0\\ngini = 0.418\\nsamples = 37\\nvalue = [26, 11]'),\n",
       " Text(90.87428571428572, 91.99384615384615, 'X[5] <= 38.4\\ngini = 0.382\\nsamples = 35\\nvalue = [26, 9]'),\n",
       " Text(79.71428571428572, 75.2676923076923, 'X[6] <= 0.276\\ngini = 0.293\\nsamples = 28\\nvalue = [23, 5]'),\n",
       " Text(73.33714285714285, 58.541538461538465, 'X[7] <= 44.0\\ngini = 0.444\\nsamples = 12\\nvalue = [8, 4]'),\n",
       " Text(70.14857142857143, 41.81538461538463, 'X[7] <= 30.5\\ngini = 0.5\\nsamples = 8\\nvalue = [4, 4]'),\n",
       " Text(66.96000000000001, 25.089230769230767, 'gini = 0.0\\nsamples = 2\\nvalue = [2, 0]'),\n",
       " Text(73.33714285714285, 25.089230769230767, 'X[6] <= 0.141\\ngini = 0.444\\nsamples = 6\\nvalue = [2, 4]'),\n",
       " Text(70.14857142857143, 8.363076923076932, 'gini = 0.0\\nsamples = 2\\nvalue = [2, 0]'),\n",
       " Text(76.52571428571429, 8.363076923076932, 'gini = 0.0\\nsamples = 4\\nvalue = [0, 4]'),\n",
       " Text(76.52571428571429, 41.81538461538463, 'gini = 0.0\\nsamples = 4\\nvalue = [4, 0]'),\n",
       " Text(86.09142857142857, 58.541538461538465, 'X[2] <= 26.0\\ngini = 0.117\\nsamples = 16\\nvalue = [15, 1]'),\n",
       " Text(82.90285714285714, 41.81538461538463, 'X[6] <= 0.492\\ngini = 0.5\\nsamples = 2\\nvalue = [1, 1]'),\n",
       " Text(79.71428571428572, 25.089230769230767, 'gini = 0.0\\nsamples = 1\\nvalue = [0, 1]'),\n",
       " Text(86.09142857142857, 25.089230769230767, 'gini = 0.0\\nsamples = 1\\nvalue = [1, 0]'),\n",
       " Text(89.28, 41.81538461538463, 'gini = 0.0\\nsamples = 14\\nvalue = [14, 0]'),\n",
       " Text(102.03428571428572, 75.2676923076923, 'X[3] <= 31.0\\ngini = 0.49\\nsamples = 7\\nvalue = [3, 4]'),\n",
       " Text(98.84571428571428, 58.541538461538465, 'X[2] <= 75.0\\ngini = 0.375\\nsamples = 4\\nvalue = [3, 1]'),\n",
       " Text(95.65714285714286, 41.81538461538463, 'gini = 0.0\\nsamples = 1\\nvalue = [0, 1]'),\n",
       " Text(102.03428571428572, 41.81538461538463, 'gini = 0.0\\nsamples = 3\\nvalue = [3, 0]'),\n",
       " Text(105.22285714285715, 58.541538461538465, 'gini = 0.0\\nsamples = 3\\nvalue = [0, 3]'),\n",
       " Text(97.25142857142858, 91.99384615384615, 'gini = 0.0\\nsamples = 2\\nvalue = [0, 2]'),\n",
       " Text(100.44, 108.72, 'gini = 0.0\\nsamples = 10\\nvalue = [10, 0]'),\n",
       " Text(114.78857142857143, 125.44615384615385, 'X[1] <= 121.0\\ngini = 0.5\\nsamples = 33\\nvalue = [16, 17]'),\n",
       " Text(108.41142857142857, 108.72, 'X[2] <= 90.0\\ngini = 0.198\\nsamples = 9\\nvalue = [1, 8]'),\n",
       " Text(105.22285714285715, 91.99384615384615, 'gini = 0.0\\nsamples = 8\\nvalue = [0, 8]'),\n",
       " Text(111.6, 91.99384615384615, 'gini = 0.0\\nsamples = 1\\nvalue = [1, 0]'),\n",
       " Text(121.16571428571429, 108.72, 'X[7] <= 51.5\\ngini = 0.469\\nsamples = 24\\nvalue = [15, 9]'),\n",
       " Text(117.97714285714287, 91.99384615384615, 'X[5] <= 40.1\\ngini = 0.434\\nsamples = 22\\nvalue = [15, 7]'),\n",
       " Text(114.78857142857143, 75.2676923076923, 'X[2] <= 75.0\\ngini = 0.375\\nsamples = 20\\nvalue = [15, 5]'),\n",
       " Text(111.6, 58.541538461538465, 'X[7] <= 42.0\\ngini = 0.473\\nsamples = 13\\nvalue = [8, 5]'),\n",
       " Text(108.41142857142857, 41.81538461538463, 'X[2] <= 69.0\\ngini = 0.397\\nsamples = 11\\nvalue = [8, 3]'),\n",
       " Text(105.22285714285715, 25.089230769230767, 'gini = 0.0\\nsamples = 5\\nvalue = [5, 0]'),\n",
       " Text(111.6, 25.089230769230767, 'X[3] <= 29.5\\ngini = 0.5\\nsamples = 6\\nvalue = [3, 3]'),\n",
       " Text(108.41142857142857, 8.363076923076932, 'gini = 0.0\\nsamples = 3\\nvalue = [0, 3]'),\n",
       " Text(114.78857142857143, 8.363076923076932, 'gini = 0.0\\nsamples = 3\\nvalue = [3, 0]'),\n",
       " Text(114.78857142857143, 41.81538461538463, 'gini = 0.0\\nsamples = 2\\nvalue = [0, 2]'),\n",
       " Text(117.97714285714287, 58.541538461538465, 'gini = 0.0\\nsamples = 7\\nvalue = [7, 0]'),\n",
       " Text(121.16571428571429, 75.2676923076923, 'gini = 0.0\\nsamples = 2\\nvalue = [0, 2]'),\n",
       " Text(124.35428571428571, 91.99384615384615, 'gini = 0.0\\nsamples = 2\\nvalue = [0, 2]'),\n",
       " Text(153.05142857142857, 142.1723076923077, 'X[0] <= 4.5\\ngini = 0.439\\nsamples = 40\\nvalue = [13, 27]'),\n",
       " Text(140.29714285714286, 125.44615384615385, 'X[4] <= 120.5\\ngini = 0.5\\nsamples = 20\\nvalue = [10, 10]'),\n",
       " Text(133.92000000000002, 108.72, 'X[6] <= 0.543\\ngini = 0.375\\nsamples = 12\\nvalue = [9, 3]'),\n",
       " Text(130.73142857142858, 91.99384615384615, 'gini = 0.0\\nsamples = 1\\nvalue = [0, 1]'),\n",
       " Text(137.10857142857142, 91.99384615384615, 'X[7] <= 58.0\\ngini = 0.298\\nsamples = 11\\nvalue = [9, 2]'),\n",
       " Text(133.92000000000002, 75.2676923076923, 'X[1] <= 124.0\\ngini = 0.18\\nsamples = 10\\nvalue = [9, 1]'),\n",
       " Text(130.73142857142858, 58.541538461538465, 'gini = 0.0\\nsamples = 8\\nvalue = [8, 0]'),\n",
       " Text(137.10857142857142, 58.541538461538465, 'X[4] <= 29.0\\ngini = 0.5\\nsamples = 2\\nvalue = [1, 1]'),\n",
       " Text(133.92000000000002, 41.81538461538463, 'gini = 0.0\\nsamples = 1\\nvalue = [1, 0]'),\n",
       " Text(140.29714285714286, 41.81538461538463, 'gini = 0.0\\nsamples = 1\\nvalue = [0, 1]'),\n",
       " Text(140.29714285714286, 75.2676923076923, 'gini = 0.0\\nsamples = 1\\nvalue = [0, 1]'),\n",
       " Text(146.6742857142857, 108.72, 'X[6] <= 1.153\\ngini = 0.219\\nsamples = 8\\nvalue = [1, 7]'),\n",
       " Text(143.4857142857143, 91.99384615384615, 'gini = 0.0\\nsamples = 7\\nvalue = [0, 7]'),\n",
       " Text(149.86285714285714, 91.99384615384615, 'gini = 0.0\\nsamples = 1\\nvalue = [1, 0]'),\n",
       " Text(165.8057142857143, 125.44615384615385, 'X[3] <= 39.5\\ngini = 0.255\\nsamples = 20\\nvalue = [3, 17]'),\n",
       " Text(159.42857142857144, 108.72, 'X[7] <= 62.0\\ngini = 0.111\\nsamples = 17\\nvalue = [1, 16]'),\n",
       " Text(156.24, 91.99384615384615, 'gini = 0.0\\nsamples = 16\\nvalue = [0, 16]'),\n",
       " Text(162.61714285714285, 91.99384615384615, 'gini = 0.0\\nsamples = 1\\nvalue = [1, 0]'),\n",
       " Text(172.18285714285713, 108.72, 'X[0] <= 9.5\\ngini = 0.444\\nsamples = 3\\nvalue = [2, 1]'),\n",
       " Text(168.99428571428572, 91.99384615384615, 'gini = 0.0\\nsamples = 2\\nvalue = [2, 0]'),\n",
       " Text(175.37142857142857, 91.99384615384615, 'gini = 0.0\\nsamples = 1\\nvalue = [0, 1]'),\n",
       " Text(241.73357142857142, 192.35076923076923, 'X[5] <= 29.95\\ngini = 0.447\\nsamples = 175\\nvalue = [59, 116]'),\n",
       " Text(202.4742857142857, 175.62461538461537, 'X[1] <= 151.0\\ngini = 0.48\\nsamples = 45\\nvalue = [27, 18]'),\n",
       " Text(188.12571428571428, 158.89846153846153, 'X[2] <= 55.0\\ngini = 0.365\\nsamples = 25\\nvalue = [19, 6]'),\n",
       " Text(184.93714285714287, 142.1723076923077, 'gini = 0.0\\nsamples = 2\\nvalue = [0, 2]'),\n",
       " Text(191.31428571428572, 142.1723076923077, 'X[3] <= 34.5\\ngini = 0.287\\nsamples = 23\\nvalue = [19, 4]'),\n",
       " Text(188.12571428571428, 125.44615384615385, 'X[3] <= 7.0\\ngini = 0.236\\nsamples = 22\\nvalue = [19, 3]'),\n",
       " Text(184.93714285714287, 108.72, 'X[7] <= 25.5\\ngini = 0.42\\nsamples = 10\\nvalue = [7, 3]'),\n",
       " Text(181.74857142857144, 91.99384615384615, 'gini = 0.0\\nsamples = 1\\nvalue = [0, 1]'),\n",
       " Text(188.12571428571428, 91.99384615384615, 'X[7] <= 43.5\\ngini = 0.346\\nsamples = 9\\nvalue = [7, 2]'),\n",
       " Text(184.93714285714287, 75.2676923076923, 'gini = 0.0\\nsamples = 5\\nvalue = [5, 0]'),\n",
       " Text(191.31428571428572, 75.2676923076923, 'X[5] <= 25.3\\ngini = 0.5\\nsamples = 4\\nvalue = [2, 2]'),\n",
       " Text(188.12571428571428, 58.541538461538465, 'gini = 0.0\\nsamples = 1\\nvalue = [0, 1]'),\n",
       " Text(194.50285714285715, 58.541538461538465, 'X[1] <= 141.5\\ngini = 0.444\\nsamples = 3\\nvalue = [2, 1]'),\n",
       " Text(191.31428571428572, 41.81538461538463, 'gini = 0.0\\nsamples = 2\\nvalue = [2, 0]'),\n",
       " Text(197.69142857142856, 41.81538461538463, 'gini = 0.0\\nsamples = 1\\nvalue = [0, 1]'),\n",
       " Text(191.31428571428572, 108.72, 'gini = 0.0\\nsamples = 12\\nvalue = [12, 0]'),\n",
       " Text(194.50285714285715, 125.44615384615385, 'gini = 0.0\\nsamples = 1\\nvalue = [0, 1]'),\n",
       " Text(216.82285714285715, 158.89846153846153, 'X[7] <= 61.0\\ngini = 0.48\\nsamples = 20\\nvalue = [8, 12]'),\n",
       " Text(213.6342857142857, 142.1723076923077, 'X[2] <= 87.0\\ngini = 0.375\\nsamples = 16\\nvalue = [4, 12]'),\n",
       " Text(207.25714285714287, 125.44615384615385, 'X[6] <= 0.755\\ngini = 0.26\\nsamples = 13\\nvalue = [2, 11]'),\n",
       " Text(204.06857142857143, 108.72, 'X[1] <= 160.0\\ngini = 0.153\\nsamples = 12\\nvalue = [1, 11]'),\n",
       " Text(200.88, 91.99384615384615, 'X[2] <= 69.0\\ngini = 0.444\\nsamples = 3\\nvalue = [1, 2]'),\n",
       " Text(197.69142857142856, 75.2676923076923, 'gini = 0.0\\nsamples = 1\\nvalue = [1, 0]'),\n",
       " Text(204.06857142857143, 75.2676923076923, 'gini = 0.0\\nsamples = 2\\nvalue = [0, 2]'),\n",
       " Text(207.25714285714287, 91.99384615384615, 'gini = 0.0\\nsamples = 9\\nvalue = [0, 9]'),\n",
       " Text(210.4457142857143, 108.72, 'gini = 0.0\\nsamples = 1\\nvalue = [1, 0]'),\n",
       " Text(220.01142857142858, 125.44615384615385, 'X[0] <= 8.5\\ngini = 0.444\\nsamples = 3\\nvalue = [2, 1]'),\n",
       " Text(216.82285714285715, 108.72, 'gini = 0.0\\nsamples = 2\\nvalue = [2, 0]'),\n",
       " Text(223.2, 108.72, 'gini = 0.0\\nsamples = 1\\nvalue = [0, 1]'),\n",
       " Text(220.01142857142858, 142.1723076923077, 'gini = 0.0\\nsamples = 4\\nvalue = [4, 0]'),\n",
       " Text(280.99285714285713, 175.62461538461537, 'X[2] <= 61.0\\ngini = 0.371\\nsamples = 130\\nvalue = [32, 98]'),\n",
       " Text(277.8042857142857, 158.89846153846153, 'gini = 0.0\\nsamples = 18\\nvalue = [0, 18]'),\n",
       " Text(284.18142857142857, 158.89846153846153, 'X[1] <= 157.5\\ngini = 0.408\\nsamples = 112\\nvalue = [32, 80]'),\n",
       " Text(255.88285714285715, 142.1723076923077, 'X[7] <= 31.0\\ngini = 0.486\\nsamples = 53\\nvalue = [22, 31]'),\n",
       " Text(239.14285714285714, 125.44615384615385, 'X[0] <= 0.5\\ngini = 0.455\\nsamples = 20\\nvalue = [13, 7]'),\n",
       " Text(229.57714285714286, 108.72, 'X[5] <= 33.75\\ngini = 0.469\\nsamples = 8\\nvalue = [3, 5]'),\n",
       " Text(226.38857142857142, 91.99384615384615, 'gini = 0.0\\nsamples = 2\\nvalue = [2, 0]'),\n",
       " Text(232.7657142857143, 91.99384615384615, 'X[4] <= 261.0\\ngini = 0.278\\nsamples = 6\\nvalue = [1, 5]'),\n",
       " Text(229.57714285714286, 75.2676923076923, 'gini = 0.0\\nsamples = 5\\nvalue = [0, 5]'),\n",
       " Text(235.95428571428573, 75.2676923076923, 'gini = 0.0\\nsamples = 1\\nvalue = [1, 0]'),\n",
       " Text(248.70857142857142, 108.72, 'X[5] <= 47.7\\ngini = 0.278\\nsamples = 12\\nvalue = [10, 2]'),\n",
       " Text(245.52, 91.99384615384615, 'X[1] <= 135.5\\ngini = 0.165\\nsamples = 11\\nvalue = [10, 1]'),\n",
       " Text(242.33142857142857, 75.2676923076923, 'gini = 0.0\\nsamples = 1\\nvalue = [0, 1]'),\n",
       " Text(248.70857142857142, 75.2676923076923, 'gini = 0.0\\nsamples = 10\\nvalue = [10, 0]'),\n",
       " Text(251.89714285714285, 91.99384615384615, 'gini = 0.0\\nsamples = 1\\nvalue = [0, 1]'),\n",
       " Text(272.62285714285713, 125.44615384615385, 'X[6] <= 1.485\\ngini = 0.397\\nsamples = 33\\nvalue = [9, 24]'),\n",
       " Text(269.4342857142857, 108.72, 'X[7] <= 42.5\\ngini = 0.375\\nsamples = 32\\nvalue = [8, 24]'),\n",
       " Text(261.46285714285716, 91.99384615384615, 'X[5] <= 34.8\\ngini = 0.475\\nsamples = 18\\nvalue = [7, 11]'),\n",
       " Text(255.0857142857143, 75.2676923076923, 'X[6] <= 0.73\\ngini = 0.469\\nsamples = 8\\nvalue = [5, 3]'),\n",
       " Text(251.89714285714285, 58.541538461538465, 'X[1] <= 135.5\\ngini = 0.278\\nsamples = 6\\nvalue = [5, 1]'),\n",
       " Text(248.70857142857142, 41.81538461538463, 'X[0] <= 7.5\\ngini = 0.5\\nsamples = 2\\nvalue = [1, 1]'),\n",
       " Text(245.52, 25.089230769230767, 'gini = 0.0\\nsamples = 1\\nvalue = [1, 0]'),\n",
       " Text(251.89714285714285, 25.089230769230767, 'gini = 0.0\\nsamples = 1\\nvalue = [0, 1]'),\n",
       " Text(255.0857142857143, 41.81538461538463, 'gini = 0.0\\nsamples = 4\\nvalue = [4, 0]'),\n",
       " Text(258.2742857142857, 58.541538461538465, 'gini = 0.0\\nsamples = 2\\nvalue = [0, 2]'),\n",
       " Text(267.84000000000003, 75.2676923076923, 'X[0] <= 10.5\\ngini = 0.32\\nsamples = 10\\nvalue = [2, 8]'),\n",
       " Text(264.6514285714286, 58.541538461538465, 'gini = 0.0\\nsamples = 7\\nvalue = [0, 7]'),\n",
       " Text(271.0285714285714, 58.541538461538465, 'X[2] <= 77.5\\ngini = 0.444\\nsamples = 3\\nvalue = [2, 1]'),\n",
       " Text(267.84000000000003, 41.81538461538463, 'gini = 0.0\\nsamples = 1\\nvalue = [0, 1]'),\n",
       " Text(274.21714285714285, 41.81538461538463, 'gini = 0.0\\nsamples = 2\\nvalue = [2, 0]'),\n",
       " Text(277.4057142857143, 91.99384615384615, 'X[7] <= 61.5\\ngini = 0.133\\nsamples = 14\\nvalue = [1, 13]'),\n",
       " Text(274.21714285714285, 75.2676923076923, 'gini = 0.0\\nsamples = 11\\nvalue = [0, 11]'),\n",
       " Text(280.5942857142857, 75.2676923076923, 'X[0] <= 4.5\\ngini = 0.444\\nsamples = 3\\nvalue = [1, 2]'),\n",
       " Text(277.4057142857143, 58.541538461538465, 'gini = 0.0\\nsamples = 2\\nvalue = [0, 2]'),\n",
       " Text(283.78285714285715, 58.541538461538465, 'gini = 0.0\\nsamples = 1\\nvalue = [1, 0]'),\n",
       " Text(275.81142857142856, 108.72, 'gini = 0.0\\nsamples = 1\\nvalue = [1, 0]'),\n",
       " Text(312.48, 142.1723076923077, 'X[4] <= 629.5\\ngini = 0.282\\nsamples = 59\\nvalue = [10, 49]'),\n",
       " Text(309.2914285714286, 125.44615384615385, 'X[6] <= 0.343\\ngini = 0.241\\nsamples = 57\\nvalue = [8, 49]'),\n",
       " Text(296.53714285714284, 108.72, 'X[6] <= 0.258\\ngini = 0.375\\nsamples = 24\\nvalue = [6, 18]'),\n",
       " Text(290.16, 91.99384615384615, 'X[0] <= 9.5\\ngini = 0.142\\nsamples = 13\\nvalue = [1, 12]'),\n",
       " Text(286.9714285714286, 75.2676923076923, 'gini = 0.0\\nsamples = 10\\nvalue = [0, 10]'),\n",
       " Text(293.3485714285714, 75.2676923076923, 'X[7] <= 37.5\\ngini = 0.444\\nsamples = 3\\nvalue = [1, 2]'),\n",
       " Text(290.16, 58.541538461538465, 'gini = 0.0\\nsamples = 1\\nvalue = [1, 0]'),\n",
       " Text(296.53714285714284, 58.541538461538465, 'gini = 0.0\\nsamples = 2\\nvalue = [0, 2]'),\n",
       " Text(302.9142857142857, 91.99384615384615, 'X[7] <= 26.5\\ngini = 0.496\\nsamples = 11\\nvalue = [5, 6]'),\n",
       " Text(299.7257142857143, 75.2676923076923, 'gini = 0.0\\nsamples = 3\\nvalue = [3, 0]'),\n",
       " Text(306.10285714285715, 75.2676923076923, 'X[6] <= 0.34\\ngini = 0.375\\nsamples = 8\\nvalue = [2, 6]'),\n",
       " Text(302.9142857142857, 58.541538461538465, 'X[2] <= 69.0\\ngini = 0.245\\nsamples = 7\\nvalue = [1, 6]'),\n",
       " Text(299.7257142857143, 41.81538461538463, 'X[7] <= 36.0\\ngini = 0.5\\nsamples = 2\\nvalue = [1, 1]'),\n",
       " Text(296.53714285714284, 25.089230769230767, 'gini = 0.0\\nsamples = 1\\nvalue = [1, 0]'),\n",
       " Text(302.9142857142857, 25.089230769230767, 'gini = 0.0\\nsamples = 1\\nvalue = [0, 1]'),\n",
       " Text(306.10285714285715, 41.81538461538463, 'gini = 0.0\\nsamples = 5\\nvalue = [0, 5]'),\n",
       " Text(309.2914285714286, 58.541538461538465, 'gini = 0.0\\nsamples = 1\\nvalue = [1, 0]'),\n",
       " Text(322.04571428571427, 108.72, 'X[2] <= 92.0\\ngini = 0.114\\nsamples = 33\\nvalue = [2, 31]'),\n",
       " Text(315.66857142857145, 91.99384615384615, 'X[5] <= 45.3\\ngini = 0.062\\nsamples = 31\\nvalue = [1, 30]'),\n",
       " Text(312.48, 75.2676923076923, 'gini = 0.0\\nsamples = 27\\nvalue = [0, 27]'),\n",
       " Text(318.8571428571429, 75.2676923076923, 'X[3] <= 34.0\\ngini = 0.375\\nsamples = 4\\nvalue = [1, 3]'),\n",
       " Text(315.66857142857145, 58.541538461538465, 'gini = 0.0\\nsamples = 1\\nvalue = [1, 0]'),\n",
       " Text(322.04571428571427, 58.541538461538465, 'gini = 0.0\\nsamples = 3\\nvalue = [0, 3]'),\n",
       " Text(328.42285714285714, 91.99384615384615, 'X[6] <= 0.948\\ngini = 0.5\\nsamples = 2\\nvalue = [1, 1]'),\n",
       " Text(325.2342857142857, 75.2676923076923, 'gini = 0.0\\nsamples = 1\\nvalue = [0, 1]'),\n",
       " Text(331.6114285714286, 75.2676923076923, 'gini = 0.0\\nsamples = 1\\nvalue = [1, 0]'),\n",
       " Text(315.66857142857145, 125.44615384615385, 'gini = 0.0\\nsamples = 2\\nvalue = [2, 0]')]"
      ]
     },
     "execution_count": 14,
     "metadata": {},
     "output_type": "execute_result"
    },
    {
     "data": {
      "image/png": "[encoded data removed]",
      "text/plain": [
       "<Figure size 432x288 with 1 Axes>"
      ]
     },
     "metadata": {
      "needs_background": "light"
     },
     "output_type": "display_data"
    }
   ],
   "source": [
    "tree.plot_tree(classifier)"
   ]
  },
  {
   "cell_type": "markdown",
   "metadata": {},
   "source": [
    "修剪"
   ]
  },
  {
   "cell_type": "code",
   "execution_count": 15,
   "metadata": {},
   "outputs": [],
   "source": [
    "import matplotlib.pyplot as plt"
   ]
  },
  {
   "cell_type": "code",
   "execution_count": 16,
   "metadata": {},
   "outputs": [],
   "source": [
    "clf = DecisionTreeClassifier(random_state=0)\n",
    "path = clf.cost_complexity_pruning_path(X_train, y_train)\n",
    "ccp_alphas, impurities = path.ccp_alphas, path.impurities"
   ]
  },
  {
   "cell_type": "code",
   "execution_count": 17,
   "metadata": {},
   "outputs": [
    {
     "data": {
      "text/plain": [
       "Text(0.5, 1.0, 'Total Impurity vs effective alpha for training set')"
      ]
     },
     "execution_count": 17,
     "metadata": {},
     "output_type": "execute_result"
    },
    {
     "data": {
      "image/png": "[encoded data removed]",
      "text/plain": [
       "<Figure size 432x288 with 1 Axes>"
      ]
     },
     "metadata": {
      "needs_background": "light"
     },
     "output_type": "display_data"
    }
   ],
   "source": [
    "fig, ax = plt.subplots()\n",
    "ax.plot(ccp_alphas[:-1], impurities[:-1], marker='o', drawstyle=\"steps-post\")\n",
    "ax.set_xlabel(\"effective alpha\")\n",
    "ax.set_ylabel(\"total impurity of leaves\")\n",
    "ax.set_title(\"Total Impurity vs effective alpha for training set\")"
   ]
  },
  {
   "cell_type": "code",
   "execution_count": 18,
   "metadata": {},
   "outputs": [
    {
     "name": "stdout",
     "output_type": "stream",
     "text": [
      "Number of nodes in the last tree is: 1 with ccp_alpha: 0.0857832831877966\n"
     ]
    }
   ],
   "source": [
    "clfs = []\n",
    "for ccp_alpha in ccp_alphas:\n",
    "    clf = DecisionTreeClassifier(random_state=0, ccp_alpha=ccp_alpha)\n",
    "    clf.fit(X_train, y_train)\n",
    "    clfs.append(clf)\n",
    "print(\"Number of nodes in the last tree is: {} with ccp_alpha: {}\".format(\n",
    "      clfs[-1].tree_.node_count, ccp_alphas[-1]))"
   ]
  },
  {
   "cell_type": "code",
   "execution_count": 19,
   "metadata": {},
   "outputs": [
    {
     "data": {
      "image/png": "[encoded data removed]",
      "text/plain": [
       "<Figure size 432x288 with 2 Axes>"
      ]
     },
     "metadata": {
      "needs_background": "light"
     },
     "output_type": "display_data"
    }
   ],
   "source": [
    "clfs = clfs[:-1]\n",
    "ccp_alphas = ccp_alphas[:-1]\n",
    "node_counts = [clf.tree_.node_count for clf in clfs]\n",
    "depth = [clf.tree_.max_depth for clf in clfs]\n",
    "fig, ax = plt.subplots(2, 1)\n",
    "ax[0].plot(ccp_alphas, node_counts, marker='o', drawstyle=\"steps-post\")\n",
    "ax[0].set_xlabel(\"alpha\")\n",
    "ax[0].set_ylabel(\"number of nodes\")\n",
    "ax[0].set_title(\"Number of nodes vs alpha\")\n",
    "ax[1].plot(ccp_alphas, depth, marker='o', drawstyle=\"steps-post\")\n",
    "ax[1].set_xlabel(\"alpha\")\n",
    "ax[1].set_ylabel(\"depth of tree\")\n",
    "ax[1].set_title(\"Depth vs alpha\")\n",
    "fig.tight_layout()"
   ]
  },
  {
   "cell_type": "markdown",
   "metadata": {},
   "source": [
    "得出避免過度訓練的alpha值\n",
    "1. alpha 為0.008"
   ]
  },
  {
   "cell_type": "code",
   "execution_count": 20,
   "metadata": {},
   "outputs": [
    {
     "data": {
      "image/png": "[encoded data removed]",
      "text/plain": [
       "<Figure size 432x288 with 1 Axes>"
      ]
     },
     "metadata": {
      "needs_background": "light"
     },
     "output_type": "display_data"
    }
   ],
   "source": [
    "train_scores = [clf.score(X_train, y_train) for clf in clfs]\n",
    "test_scores = [clf.score(X_test, y_test) for clf in clfs]\n",
    "\n",
    "fig, ax = plt.subplots()\n",
    "ax.set_xlabel(\"alpha\")\n",
    "ax.set_ylabel(\"accuracy\")\n",
    "ax.set_title(\"Accuracy vs alpha for training and testing sets\")\n",
    "ax.plot(ccp_alphas, train_scores, marker='o', label=\"train\",\n",
    "        drawstyle=\"steps-post\")\n",
    "ax.plot(ccp_alphas, test_scores, marker='o', label=\"test\",\n",
    "        drawstyle=\"steps-post\")\n",
    "ax.legend()\n",
    "plt.show()"
   ]
  },
  {
   "cell_type": "markdown",
   "metadata": {},
   "source": [
    "修剪後Decision tree(第二次)"
   ]
  },
  {
   "cell_type": "code",
   "execution_count": 21,
   "metadata": {},
   "outputs": [],
   "source": [
    "from sklearn.tree import DecisionTreeClassifier\n",
    "from sklearn.model_selection import train_test_split\n",
    "from sklearn.metrics import classification_report, confusion_matrix\n",
    "from sklearn import tree\n",
    "import pydot"
   ]
  },
  {
   "cell_type": "code",
   "execution_count": 22,
   "metadata": {},
   "outputs": [
    {
     "data": {
      "text/html": [
       "<div>\n",
       "<style scoped>\n",
       "    .dataframe tbody tr th:only-of-type {\n",
       "        vertical-align: middle;\n",
       "    }\n",
       "\n",
       "    .dataframe tbody tr th {\n",
       "        vertical-align: top;\n",
       "    }\n",
       "\n",
       "    .dataframe thead th {\n",
       "        text-align: right;\n",
       "    }\n",
       "</style>\n",
       "<table border=\"1\" class=\"dataframe\">\n",
       "  <thead>\n",
       "    <tr style=\"text-align: right;\">\n",
       "      <th></th>\n",
       "      <th>Pregnancies</th>\n",
       "      <th>Glucose</th>\n",
       "      <th>BloodPressure</th>\n",
       "      <th>SkinThickness</th>\n",
       "      <th>Insulin</th>\n",
       "      <th>BMI</th>\n",
       "      <th>DiabetesPedigreeFunction</th>\n",
       "      <th>Age</th>\n",
       "      <th>Outcome</th>\n",
       "    </tr>\n",
       "  </thead>\n",
       "  <tbody>\n",
       "    <tr>\n",
       "      <th>0</th>\n",
       "      <td>6</td>\n",
       "      <td>148</td>\n",
       "      <td>72</td>\n",
       "      <td>35</td>\n",
       "      <td>0</td>\n",
       "      <td>33.6</td>\n",
       "      <td>0.627</td>\n",
       "      <td>50</td>\n",
       "      <td>1</td>\n",
       "    </tr>\n",
       "    <tr>\n",
       "      <th>1</th>\n",
       "      <td>1</td>\n",
       "      <td>85</td>\n",
       "      <td>66</td>\n",
       "      <td>29</td>\n",
       "      <td>0</td>\n",
       "      <td>26.6</td>\n",
       "      <td>0.351</td>\n",
       "      <td>31</td>\n",
       "      <td>0</td>\n",
       "    </tr>\n",
       "    <tr>\n",
       "      <th>2</th>\n",
       "      <td>8</td>\n",
       "      <td>183</td>\n",
       "      <td>64</td>\n",
       "      <td>0</td>\n",
       "      <td>0</td>\n",
       "      <td>23.3</td>\n",
       "      <td>0.672</td>\n",
       "      <td>32</td>\n",
       "      <td>1</td>\n",
       "    </tr>\n",
       "    <tr>\n",
       "      <th>3</th>\n",
       "      <td>1</td>\n",
       "      <td>89</td>\n",
       "      <td>66</td>\n",
       "      <td>23</td>\n",
       "      <td>94</td>\n",
       "      <td>28.1</td>\n",
       "      <td>0.167</td>\n",
       "      <td>21</td>\n",
       "      <td>0</td>\n",
       "    </tr>\n",
       "    <tr>\n",
       "      <th>4</th>\n",
       "      <td>0</td>\n",
       "      <td>137</td>\n",
       "      <td>40</td>\n",
       "      <td>35</td>\n",
       "      <td>168</td>\n",
       "      <td>43.1</td>\n",
       "      <td>2.288</td>\n",
       "      <td>33</td>\n",
       "      <td>1</td>\n",
       "    </tr>\n",
       "    <tr>\n",
       "      <th>...</th>\n",
       "      <td>...</td>\n",
       "      <td>...</td>\n",
       "      <td>...</td>\n",
       "      <td>...</td>\n",
       "      <td>...</td>\n",
       "      <td>...</td>\n",
       "      <td>...</td>\n",
       "      <td>...</td>\n",
       "      <td>...</td>\n",
       "    </tr>\n",
       "    <tr>\n",
       "      <th>763</th>\n",
       "      <td>10</td>\n",
       "      <td>101</td>\n",
       "      <td>76</td>\n",
       "      <td>48</td>\n",
       "      <td>180</td>\n",
       "      <td>32.9</td>\n",
       "      <td>0.171</td>\n",
       "      <td>63</td>\n",
       "      <td>0</td>\n",
       "    </tr>\n",
       "    <tr>\n",
       "      <th>764</th>\n",
       "      <td>2</td>\n",
       "      <td>122</td>\n",
       "      <td>70</td>\n",
       "      <td>27</td>\n",
       "      <td>0</td>\n",
       "      <td>36.8</td>\n",
       "      <td>0.340</td>\n",
       "      <td>27</td>\n",
       "      <td>0</td>\n",
       "    </tr>\n",
       "    <tr>\n",
       "      <th>765</th>\n",
       "      <td>5</td>\n",
       "      <td>121</td>\n",
       "      <td>72</td>\n",
       "      <td>23</td>\n",
       "      <td>112</td>\n",
       "      <td>26.2</td>\n",
       "      <td>0.245</td>\n",
       "      <td>30</td>\n",
       "      <td>0</td>\n",
       "    </tr>\n",
       "    <tr>\n",
       "      <th>766</th>\n",
       "      <td>1</td>\n",
       "      <td>126</td>\n",
       "      <td>60</td>\n",
       "      <td>0</td>\n",
       "      <td>0</td>\n",
       "      <td>30.1</td>\n",
       "      <td>0.349</td>\n",
       "      <td>47</td>\n",
       "      <td>1</td>\n",
       "    </tr>\n",
       "    <tr>\n",
       "      <th>767</th>\n",
       "      <td>1</td>\n",
       "      <td>93</td>\n",
       "      <td>70</td>\n",
       "      <td>31</td>\n",
       "      <td>0</td>\n",
       "      <td>30.4</td>\n",
       "      <td>0.315</td>\n",
       "      <td>23</td>\n",
       "      <td>0</td>\n",
       "    </tr>\n",
       "  </tbody>\n",
       "</table>\n",
       "<p>768 rows × 9 columns</p>\n",
       "</div>"
      ],
      "text/plain": [
       "     Pregnancies  Glucose  BloodPressure  SkinThickness  Insulin   BMI  \\\n",
       "0              6      148             72             35        0  33.6   \n",
       "1              1       85             66             29        0  26.6   \n",
       "2              8      183             64              0        0  23.3   \n",
       "3              1       89             66             23       94  28.1   \n",
       "4              0      137             40             35      168  43.1   \n",
       "..           ...      ...            ...            ...      ...   ...   \n",
       "763           10      101             76             48      180  32.9   \n",
       "764            2      122             70             27        0  36.8   \n",
       "765            5      121             72             23      112  26.2   \n",
       "766            1      126             60              0        0  30.1   \n",
       "767            1       93             70             31        0  30.4   \n",
       "\n",
       "     DiabetesPedigreeFunction  Age  Outcome  \n",
       "0                       0.627   50        1  \n",
       "1                       0.351   31        0  \n",
       "2                       0.672   32        1  \n",
       "3                       0.167   21        0  \n",
       "4                       2.288   33        1  \n",
       "..                        ...  ...      ...  \n",
       "763                     0.171   63        0  \n",
       "764                     0.340   27        0  \n",
       "765                     0.245   30        0  \n",
       "766                     0.349   47        1  \n",
       "767                     0.315   23        0  \n",
       "\n",
       "[768 rows x 9 columns]"
      ]
     },
     "execution_count": 22,
     "metadata": {},
     "output_type": "execute_result"
    }
   ],
   "source": [
    "df_9 = pd.read_csv(\"diabetes.csv\")\n",
    "df_10=df_9\n",
    "df_10"
   ]
  },
  {
   "cell_type": "code",
   "execution_count": 23,
   "metadata": {},
   "outputs": [],
   "source": [
    "X = df_10.drop('Outcome', axis=1)\n",
    "y = df_10['Outcome']\n",
    "X_train, X_test, y_train, y_test = train_test_split(X, y, test_size=0.30)"
   ]
  },
  {
   "cell_type": "code",
   "execution_count": 24,
   "metadata": {},
   "outputs": [
    {
     "data": {
      "text/plain": [
       "DecisionTreeClassifier(ccp_alpha=0.008, class_weight=None, criterion='gini',\n",
       "                       max_depth=None, max_features=None, max_leaf_nodes=None,\n",
       "                       min_impurity_decrease=0.0, min_impurity_split=None,\n",
       "                       min_samples_leaf=1, min_samples_split=2,\n",
       "                       min_weight_fraction_leaf=0.0, presort='deprecated',\n",
       "                       random_state=None, splitter='best')"
      ]
     },
     "execution_count": 24,
     "metadata": {},
     "output_type": "execute_result"
    }
   ],
   "source": [
    "classifier = DecisionTreeClassifier(ccp_alpha=0.008)\n",
    "classifier.fit(X_train, y_train)"
   ]
  },
  {
   "cell_type": "code",
   "execution_count": 25,
   "metadata": {},
   "outputs": [],
   "source": [
    "y_pred = classifier.predict(X_test)"
   ]
  },
  {
   "cell_type": "markdown",
   "metadata": {},
   "source": [
    "分類結果"
   ]
  },
  {
   "cell_type": "code",
   "execution_count": 26,
   "metadata": {},
   "outputs": [
    {
     "name": "stdout",
     "output_type": "stream",
     "text": [
      "[[143  19]\n",
      " [ 35  34]]\n",
      "              precision    recall  f1-score   support\n",
      "\n",
      "           0       0.80      0.88      0.84       162\n",
      "           1       0.64      0.49      0.56        69\n",
      "\n",
      "    accuracy                           0.77       231\n",
      "   macro avg       0.72      0.69      0.70       231\n",
      "weighted avg       0.76      0.77      0.76       231\n",
      "\n"
     ]
    }
   ],
   "source": [
    "print(confusion_matrix(y_test, y_pred))\n",
    "print(classification_report(y_test, y_pred))"
   ]
  },
  {
   "cell_type": "code",
   "execution_count": 27,
   "metadata": {},
   "outputs": [],
   "source": [
    "dot_data = StringIO()"
   ]
  },
  {
   "cell_type": "code",
   "execution_count": 28,
   "metadata": {},
   "outputs": [],
   "source": [
    "tree.export_graphviz(classifier,\n",
    "        out_file=dot_data,\n",
    "        feature_names=['Pregnancie', 'Glucose', 'BloodPressure', 'SkinThickness',\n",
    "       'Insulin', 'BMI', 'DiabetesPedigreeFunction', 'Age '],\n",
    "        class_names=['0',\"1\"],\n",
    "        filled=True, rounded=True,\n",
    "        impurity=False)"
   ]
  },
  {
   "cell_type": "code",
   "execution_count": 29,
   "metadata": {},
   "outputs": [],
   "source": [
    "graph = pydot.graph_from_dot_data(dot_data.getvalue())"
   ]
  },
  {
   "cell_type": "code",
   "execution_count": 30,
   "metadata": {},
   "outputs": [],
   "source": [
    "graph[0].write_pdf(\"MASS最終.pdf\")"
   ]
  },
  {
   "cell_type": "code",
   "execution_count": 31,
   "metadata": {},
   "outputs": [
    {
     "data": {
      "text/plain": [
       "[Text(167.40000000000003, 199.32, 'X[1] <= 144.5\\ngini = 0.466\\nsamples = 537\\nvalue = [338, 199]'),\n",
       " Text(66.96000000000001, 163.07999999999998, 'X[5] <= 27.05\\ngini = 0.38\\nsamples = 415\\nvalue = [309, 106]'),\n",
       " Text(33.480000000000004, 126.83999999999999, 'gini = 0.088\\nsamples = 109\\nvalue = [104, 5]'),\n",
       " Text(100.44000000000001, 126.83999999999999, 'X[1] <= 111.5\\ngini = 0.442\\nsamples = 306\\nvalue = [205, 101]'),\n",
       " Text(66.96000000000001, 90.6, 'gini = 0.322\\nsamples = 149\\nvalue = [119, 30]'),\n",
       " Text(133.92000000000002, 90.6, 'X[7] <= 28.5\\ngini = 0.495\\nsamples = 157\\nvalue = [86, 71]'),\n",
       " Text(66.96000000000001, 54.359999999999985, 'X[3] <= 5.0\\ngini = 0.423\\nsamples = 69\\nvalue = [48, 21]'),\n",
       " Text(33.480000000000004, 18.119999999999976, 'gini = 0.475\\nsamples = 18\\nvalue = [7, 11]'),\n",
       " Text(100.44000000000001, 18.119999999999976, 'gini = 0.315\\nsamples = 51\\nvalue = [41, 10]'),\n",
       " Text(200.88000000000002, 54.359999999999985, 'X[6] <= 0.52\\ngini = 0.491\\nsamples = 88\\nvalue = [38, 50]'),\n",
       " Text(167.40000000000003, 18.119999999999976, 'gini = 0.495\\nsamples = 60\\nvalue = [33, 27]'),\n",
       " Text(234.36, 18.119999999999976, 'gini = 0.293\\nsamples = 28\\nvalue = [5, 23]'),\n",
       " Text(267.84000000000003, 163.07999999999998, 'X[6] <= 0.298\\ngini = 0.362\\nsamples = 122\\nvalue = [29, 93]'),\n",
       " Text(234.36, 126.83999999999999, 'X[1] <= 159.5\\ngini = 0.494\\nsamples = 36\\nvalue = [16, 20]'),\n",
       " Text(200.88000000000002, 90.6, 'gini = 0.375\\nsamples = 16\\nvalue = [12, 4]'),\n",
       " Text(267.84000000000003, 90.6, 'gini = 0.32\\nsamples = 20\\nvalue = [4, 16]'),\n",
       " Text(301.32000000000005, 126.83999999999999, 'gini = 0.257\\nsamples = 86\\nvalue = [13, 73]')]"
      ]
     },
     "execution_count": 31,
     "metadata": {},
     "output_type": "execute_result"
    },
    {
     "data": {
      "image/png": "[encoded data removed]",
      "text/plain": [
       "<Figure size 432x288 with 1 Axes>"
      ]
     },
     "metadata": {
      "needs_background": "light"
     },
     "output_type": "display_data"
    }
   ],
   "source": [
    "tree.plot_tree(classifier)"
   ]
  },
  {
   "cell_type": "code",
   "execution_count": null,
   "metadata": {},
   "outputs": [],
   "source": []
  }
 ],
 "metadata": {
  "kernelspec": {
   "display_name": "Python 3",
   "language": "python",
   "name": "python3"
  },
  "language_info": {
   "codemirror_mode": {
    "name": "ipython",
    "version": 3
   },
   "file_extension": ".py",
   "mimetype": "text/x-python",
   "name": "python",
   "nbconvert_exporter": "python",
   "pygments_lexer": "ipython3",
   "version": "3.7.6"
  }
 },
 "nbformat": 4,
 "nbformat_minor": 4
}
